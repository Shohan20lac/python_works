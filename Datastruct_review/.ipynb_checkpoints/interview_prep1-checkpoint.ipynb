{
 "cells": [
  {
   "cell_type": "markdown",
   "metadata": {
    "id": "DBggJp_Ra4ZM"
   },
   "source": [
    "# DATA STRUCTURE BASICS"
   ]
  },
  {
   "cell_type": "code",
   "execution_count": null,
   "metadata": {
    "colab": {
     "base_uri": "https://localhost:8080/"
    },
    "id": "zwc93GgMY1Wh",
    "outputId": "119d52e4-f3be-4e85-c71d-a71847748b29"
   },
   "outputs": [
    {
     "name": "stdout",
     "output_type": "stream",
     "text": [
      "a a a a a \n",
      "a a a a \n",
      "a a a \n",
      "a a \n",
      "a \n"
     ]
    }
   ],
   "source": [
    "# ex.1\n",
    "# INPUT: n and char\n",
    "# OUTPUT: Print triangle of size n using character char\n",
    "# THINK: using recursion?\n",
    "`\n",
    "def printTriangle (number, character):\n",
    "  # base case: number == 1\n",
    "  if (number==0):\n",
    "    return\n",
    "  for i in range (number):\n",
    "    print(character, end=' ')\n",
    "  print('')\n",
    "  printTriangle(number-1, character)\n",
    "  \n",
    "printTriangle(5, 'a')"
   ]
  },
  {
   "cell_type": "code",
   "execution_count": null,
   "metadata": {
    "colab": {
     "base_uri": "https://localhost:8080/"
    },
    "id": "dQHgs4S6a9cz",
    "outputId": "6de235e8-b526-41b6-adaf-346c8b3bb7e4"
   },
   "outputs": [
    {
     "name": "stdout",
     "output_type": "stream",
     "text": [
      "268.082573106329\n"
     ]
    }
   ],
   "source": [
    "#Q2\n",
    "# INPUT: sphere radius\n",
    "# OUTPUT: sphere volume\n",
    "\n",
    "import math\n",
    "\n",
    "def spherevol (inrad):\n",
    "  return (4/3) * (math.pi) * (inrad)**3\n",
    "\n",
    "print (spherevol(4))"
   ]
  },
  {
   "cell_type": "code",
   "execution_count": null,
   "metadata": {
    "colab": {
     "base_uri": "https://localhost:8080/"
    },
    "id": "Hh-UzRuVbP6K",
    "outputId": "3807b8c9-abf5-4e4a-8868-2a4ca804289f"
   },
   "outputs": [
    {
     "name": "stdout",
     "output_type": "stream",
     "text": [
      "720\n"
     ]
    }
   ],
   "source": [
    "#Q3\n",
    "# input: integer\n",
    "# output: factorial\n",
    "\n",
    "def fact(n):\n",
    "  if(n==1):\n",
    "    return 1\n",
    "  else:\n",
    "    return n * fact(n-1)\n",
    "\n",
    "print(fact(6))"
   ]
  },
  {
   "cell_type": "code",
   "execution_count": 36,
   "metadata": {
    "colab": {
     "base_uri": "https://localhost:8080/"
    },
    "id": "M0cpRVw2bzkk",
    "outputId": "11625efd-c8b4-4b8f-9e2c-5e280167ac30"
   },
   "outputs": [
    {
     "name": "stdout",
     "output_type": "stream",
     "text": [
      "1982\n",
      "198\n",
      "19\n",
      "1\n",
      "sum of digits: 20\n"
     ]
    }
   ],
   "source": [
    "import math \n",
    "# Q4:\n",
    "\n",
    "# input: integer\n",
    "# output: sum of digits\n",
    "\n",
    "def sumdigits ( digits ):\n",
    "  print(digits)\n",
    "  if (len(str(digits))==1):\n",
    "    return digits\n",
    "  return (digits%10) + (sumdigits(math.floor(digits/10)))\n",
    "\n",
    "number = 1982\n",
    "sd = sumdigits (number)\n",
    "print('sum of digits:', sd)"
   ]
  },
  {
   "cell_type": "code",
   "execution_count": null,
   "metadata": {
    "colab": {
     "base_uri": "https://localhost:8080/"
    },
    "id": "P0xYg6M3cv6c",
    "outputId": "c5be0934-b65c-4dc4-9596-a305e20f358f"
   },
   "outputs": [
    {
     "name": "stdout",
     "output_type": "stream",
     "text": [
      "90\n"
     ]
    }
   ],
   "source": [
    "print(math.floor(903/10))"
   ]
  },
  {
   "cell_type": "code",
   "execution_count": 40,
   "metadata": {
    "colab": {
     "base_uri": "https://localhost:8080/"
    },
    "id": "Cjd_V7kXtauj",
    "outputId": "b8440c7e-31b1-4e61-fa9f-c815cacabb01"
   },
   "outputs": [
    {
     "name": "stdout",
     "output_type": "stream",
     "text": [
      "16\n"
     ]
    }
   ],
   "source": [
    "# INPUT: two numbers\n",
    "# OUTPUT: their hcf\n",
    "\n",
    "def hcf (m,n):\n",
    "  if (n==0):\n",
    "    return m\n",
    "  else:\n",
    "    return hcf(n, m%n)\n",
    "\n",
    "print(hcf(480,784))\n",
    "\n",
    "def lcm (m,n):"
   ]
  },
  {
   "cell_type": "code",
   "execution_count": null,
   "metadata": {
    "id": "MOssnppUvCkQ"
   },
   "outputs": [],
   "source": []
  }
 ],
 "metadata": {
  "colab": {
   "provenance": []
  },
  "kernelspec": {
   "display_name": "Python 3",
   "language": "python",
   "name": "python3"
  },
  "language_info": {
   "codemirror_mode": {
    "name": "ipython",
    "version": 3
   },
   "file_extension": ".py",
   "mimetype": "text/x-python",
   "name": "python",
   "nbconvert_exporter": "python",
   "pygments_lexer": "ipython3",
   "version": "3.8.8"
  }
 },
 "nbformat": 4,
 "nbformat_minor": 1
}
