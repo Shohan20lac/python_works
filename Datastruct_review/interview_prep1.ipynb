{
  "nbformat": 4,
  "nbformat_minor": 0,
  "metadata": {
    "colab": {
      "provenance": []
    },
    "kernelspec": {
      "name": "python3",
      "display_name": "Python 3"
    },
    "language_info": {
      "name": "python"
    }
  },
  "cells": [
    {
      "cell_type": "markdown",
      "source": [
        "DATA STRUCTURE BASICS"
      ],
      "metadata": {
        "id": "DBggJp_Ra4ZM"
      }
    },
    {
      "cell_type": "code",
      "execution_count": null,
      "metadata": {
        "colab": {
          "base_uri": "https://localhost:8080/"
        },
        "id": "zwc93GgMY1Wh",
        "outputId": "119d52e4-f3be-4e85-c71d-a71847748b29"
      },
      "outputs": [
        {
          "output_type": "stream",
          "name": "stdout",
          "text": [
            "a a a a a \n",
            "a a a a \n",
            "a a a \n",
            "a a \n",
            "a \n"
          ]
        }
      ],
      "source": [
        "# ex.1\n",
        "# INPUT: n and char\n",
        "# OUTPUT: Print triangle of size n using character char\n",
        "# THINK: using recursion?\n",
        "\n",
        "def printTriangle (number, character):\n",
        "  # base case: number == 1\n",
        "  if (number==0):\n",
        "    return\n",
        "  for i in range (number):\n",
        "    print(character, end=' ')\n",
        "  print('')\n",
        "  printTriangle(number-1, character)\n",
        "  \n",
        "printTriangle(5, 'a')"
      ]
    },
    {
      "cell_type": "code",
      "source": [
        "#Q2\n",
        "# INPUT: sphere radius\n",
        "# OUTPUT: sphere volume\n",
        "\n",
        "import math\n",
        "\n",
        "def spherevol (inrad):\n",
        "  return (4/3) * (math.pi) * (inrad)**3\n",
        "\n",
        "print (spherevol(4))"
      ],
      "metadata": {
        "colab": {
          "base_uri": "https://localhost:8080/"
        },
        "id": "dQHgs4S6a9cz",
        "outputId": "6de235e8-b526-41b6-adaf-346c8b3bb7e4"
      },
      "execution_count": null,
      "outputs": [
        {
          "output_type": "stream",
          "name": "stdout",
          "text": [
            "268.082573106329\n"
          ]
        }
      ]
    },
    {
      "cell_type": "code",
      "source": [
        "#Q3\n",
        "# input: integer\n",
        "# output: factorial\n",
        "\n",
        "def fact(n):\n",
        "  if(n==1):\n",
        "    return 1\n",
        "  else:\n",
        "    return n * fact(n-1)\n",
        "\n",
        "print(fact(6))"
      ],
      "metadata": {
        "colab": {
          "base_uri": "https://localhost:8080/"
        },
        "id": "Hh-UzRuVbP6K",
        "outputId": "3807b8c9-abf5-4e4a-8868-2a4ca804289f"
      },
      "execution_count": null,
      "outputs": [
        {
          "output_type": "stream",
          "name": "stdout",
          "text": [
            "720\n"
          ]
        }
      ]
    },
    {
      "cell_type": "code",
      "source": [
        "import math \n",
        "# Q4:\n",
        "\n",
        "# input: integer\n",
        "# output: sum of digits\n",
        "\n",
        "def sumdigits ( digits ):\n",
        "  print(digits)\n",
        "  if (len(str(digits))==1):\n",
        "    return digits\n",
        "  return (digits%10) + (sumdigits(math.floor(digits/10)))\n",
        "\n",
        "number = 1982\n",
        "sd = sumdigits (number)\n",
        "print('sum of digits:', sd)"
      ],
      "metadata": {
        "colab": {
          "base_uri": "https://localhost:8080/"
        },
        "id": "M0cpRVw2bzkk",
        "outputId": "11625efd-c8b4-4b8f-9e2c-5e280167ac30"
      },
      "execution_count": 36,
      "outputs": [
        {
          "output_type": "stream",
          "name": "stdout",
          "text": [
            "1982\n",
            "198\n",
            "19\n",
            "1\n",
            "sum of digits: 20\n"
          ]
        }
      ]
    },
    {
      "cell_type": "code",
      "source": [
        "print(math.floor(903/10))"
      ],
      "metadata": {
        "colab": {
          "base_uri": "https://localhost:8080/"
        },
        "id": "P0xYg6M3cv6c",
        "outputId": "c5be0934-b65c-4dc4-9596-a305e20f358f"
      },
      "execution_count": null,
      "outputs": [
        {
          "output_type": "stream",
          "name": "stdout",
          "text": [
            "90\n"
          ]
        }
      ]
    },
    {
      "cell_type": "code",
      "source": [
        "# INPUT: two numbers\n",
        "# OUTPUT: their hcf\n",
        "\n",
        "def hcf (m,n):\n",
        "  if (n==0):\n",
        "    return m\n",
        "  else:\n",
        "    return hcf(n, m%n)\n",
        "\n",
        "print(hcf(480,784))\n",
        "\n",
        "def lcm (m,n):"
      ],
      "metadata": {
        "colab": {
          "base_uri": "https://localhost:8080/"
        },
        "id": "Cjd_V7kXtauj",
        "outputId": "b8440c7e-31b1-4e61-fa9f-c815cacabb01"
      },
      "execution_count": 40,
      "outputs": [
        {
          "output_type": "stream",
          "name": "stdout",
          "text": [
            "16\n"
          ]
        }
      ]
    },
    {
      "cell_type": "code",
      "source": [],
      "metadata": {
        "id": "MOssnppUvCkQ"
      },
      "execution_count": null,
      "outputs": []
    }
  ]
}